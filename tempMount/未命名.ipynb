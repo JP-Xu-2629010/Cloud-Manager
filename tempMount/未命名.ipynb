{
 "cells": [
  {
   "cell_type": "code",
   "execution_count": 9,
   "id": "9eb44199-3b42-4a74-977c-f88b57f7c5c1",
   "metadata": {},
   "outputs": [
    {
     "name": "stdout",
     "output_type": "stream",
     "text": [
      "An error occurred while running rclone config.\n",
      "2023/07/27 11:11:50 Failed to read line: EOF\n",
      "\n"
     ]
    }
   ],
   "source": [
    "import subprocess\n",
    "import ipywidgets as widgets\n",
    "from IPython.display import display\n",
    "\n",
    "def check_cloud_storage_list():\n",
    "    try:\n",
    "        # Run the rclone config command and capture the output\n",
    "        result = subprocess.run(['rclone', 'config'], capture_output=True, text=True)\n",
    "        \n",
    "        # Check if the command was successful\n",
    "        if result.returncode == 0:\n",
    "            # Display the stored cloud storage list\n",
    "            print(result.stdout)\n",
    "        else:\n",
    "            print(\"An error occurred while running rclone config.\")\n",
    "            print(result.stderr)\n",
    "    except FileNotFoundError:\n",
    "        print(\"rclone command not found. Make sure rclone is installed and accessible in your environment.\")\n",
    "    except Exception as e:\n",
    "        print(f\"An error occurred: {e}\")\n",
    "\n",
    "# Attach the check_cloud_storage_list function to the button click event\n",
    "check_cloud_storage_list()"
   ]
  },
  {
   "cell_type": "code",
   "execution_count": null,
   "id": "f57d78cf-ed17-4745-8357-b8cf74f09555",
   "metadata": {},
   "outputs": [
    {
     "name": "stdout",
     "output_type": "stream",
     "text": [
      "Current remotes:\n",
      "\n",
      "Name                 Type\n",
      "====                 ====\n",
      "j3_OD                onedrive\n",
      "j_MEGA               mega\n",
      "jin3_GD              drive\n",
      "\n",
      "e) Edit existing remote\n",
      "n) New remote\n",
      "d) Delete remote\n",
      "r) Rename remote\n",
      "c) Copy remote\n",
      "s) Set configuration password\n",
      "q) Quit config\n",
      "e/n/d/r/c/s/q> "
     ]
    }
   ],
   "source": [
    "!rclone config"
   ]
  },
  {
   "cell_type": "code",
   "execution_count": null,
   "id": "22d20e24-5378-40fb-b89a-2dcc456547d6",
   "metadata": {},
   "outputs": [],
   "source": [
    "!q"
   ]
  },
  {
   "cell_type": "code",
   "execution_count": null,
   "id": "8315e95c-b484-4966-9e8d-953b05c1647a",
   "metadata": {},
   "outputs": [],
   "source": [
    "!pwd"
   ]
  },
  {
   "cell_type": "code",
   "execution_count": null,
   "id": "707831c6-197b-40b3-b9e5-33babd2c7e85",
   "metadata": {},
   "outputs": [],
   "source": [
    "!rclone lsjson j3_OD: Users/jxu210/Desktop/rclone-data-mounter/tempMount/odInfo.json"
   ]
  },
  {
   "cell_type": "code",
   "execution_count": null,
   "id": "5d499c06-72e7-4082-842f-5b6142448d6d",
   "metadata": {},
   "outputs": [],
   "source": []
  }
 ],
 "metadata": {
  "kernelspec": {
   "display_name": "Python [conda env:rclone-data-mounter] *",
   "language": "python",
   "name": "conda-env-rclone-data-mounter-py"
  },
  "language_info": {
   "codemirror_mode": {
    "name": "ipython",
    "version": 3
   },
   "file_extension": ".py",
   "mimetype": "text/x-python",
   "name": "python",
   "nbconvert_exporter": "python",
   "pygments_lexer": "ipython3",
   "version": "3.11.3"
  }
 },
 "nbformat": 4,
 "nbformat_minor": 5
}
