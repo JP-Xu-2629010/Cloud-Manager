{
 "cells": [
  {
   "cell_type": "code",
   "execution_count": 1,
   "id": "55aecde0-1d35-419e-8aa1-f293b8c0181b",
   "metadata": {},
   "outputs": [],
   "source": [
    "import json"
   ]
  },
  {
   "cell_type": "code",
   "execution_count": null,
   "id": "ffa4c100-2de9-4aa4-9381-c373ffb26a07",
   "metadata": {},
   "outputs": [],
   "source": [
    "with open('drive_info.json') as f:\n",
    "    data = json.load(f)"
   ]
  }
 ],
 "metadata": {
  "kernelspec": {
   "display_name": "Python 3 (ipykernel)",
   "language": "python",
   "name": "python3"
  },
  "language_info": {
   "codemirror_mode": {
    "name": "ipython",
    "version": 3
   },
   "file_extension": ".py",
   "mimetype": "text/x-python",
   "name": "python",
   "nbconvert_exporter": "python",
   "pygments_lexer": "ipython3",
   "version": "3.11.3"
  }
 },
 "nbformat": 4,
 "nbformat_minor": 5
}
